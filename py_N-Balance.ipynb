{
 "cells": [
  {
   "cell_type": "code",
   "execution_count": 24,
   "metadata": {},
   "outputs": [],
   "source": [
    "%matplotlib inline\n",
    "import xarray as xr\n",
    "#import geopandas as gpd\n",
    "import pandas as pd\n",
    "import matplotlib.pyplot as plt\n",
    "import numpy as np\n",
    "import datetime as dt\n",
    "import cartopy.crs as ccrs\n",
    "import cartopy\n",
    "import matplotlib.colors"
   ]
  },
  {
   "cell_type": "code",
   "execution_count": 25,
   "metadata": {},
   "outputs": [
    {
     "name": "stdout",
     "output_type": "stream",
     "text": [
      "Mi 20 Okt 2021 10:07:37 CEST\r\n"
     ]
    }
   ],
   "source": [
    "! date\n"
   ]
  },
  {
   "cell_type": "code",
   "execution_count": 26,
   "metadata": {},
   "outputs": [
    {
     "name": "stdout",
     "output_type": "stream",
     "text": [
      "aN_n2o_emis, 'sc'\n",
      "sc_aN_n2o_emis total_sc_aN_n2o_emis_station.csv\n",
      "aN_no_emis, 'sc'\n",
      "sc_aN_no_emis total_sc_aN_no_emis_station.csv\n",
      "aN_n2_emis, 'sc'\n",
      "sc_aN_n2_emis total_sc_aN_n2_emis_station.csv\n",
      "aN_nh3_emis, 'sc'\n",
      "sc_aN_nh3_emis total_sc_aN_nh3_emis_station.csv\n",
      "aN_no3_leach, 'sc'\n",
      "sc_aN_no3_leach total_sc_aN_no3_leach_station.csv\n",
      "aN_export_harvest, 'es'\n",
      "es_aN_export_harvest total_es_aN_export_harvest_station.csv\n",
      "dN_straw_export, 'ha'\n",
      "ha_dN_straw_export total_ha_dN_straw_export_station.csv\n",
      "dN_fru_export, 'cu'\n",
      "cu_dN_fru_export total_cu_dN_fru_export_station.csv\n",
      "dN_lst_export, 'cu'\n",
      "cu_dN_lst_export total_cu_dN_lst_export_station.csv\n",
      "dN_fol_export, 'cu'\n",
      "cu_dN_fol_export total_cu_dN_fol_export_station.csv\n",
      "dN_fertilizer, 'fe'\n",
      "fe_dN_fertilizer total_fe_dN_fertilizer_station.csv\n",
      "dN_manure, 'ma'\n",
      "ma_dN_manure total_ma_dN_manure_station.csv\n",
      "aN_fixation, 'es'\n",
      "es_aN_fixation total_es_aN_fixation_station.csv\n",
      "aN_deposition, 'es'\n",
      "es_aN_deposition total_es_aN_deposition_station.csv\n",
      "{'sc_aN_n2o_emis': 'total_sc_aN_n2o_emis_station.csv', 'sc_aN_no_emis': 'total_sc_aN_no_emis_station.csv', 'sc_aN_n2_emis': 'total_sc_aN_n2_emis_station.csv', 'sc_aN_nh3_emis': 'total_sc_aN_nh3_emis_station.csv', 'sc_aN_no3_leach': 'total_sc_aN_no3_leach_station.csv', 'es_aN_export_harvest': 'total_es_aN_export_harvest_station.csv', 'ha_dN_straw_export': 'total_ha_dN_straw_export_station.csv', 'cu_dN_fru_export': 'total_cu_dN_fru_export_station.csv', 'cu_dN_lst_export': 'total_cu_dN_lst_export_station.csv', 'cu_dN_fol_export': 'total_cu_dN_fol_export_station.csv', 'fe_dN_fertilizer': 'total_fe_dN_fertilizer_station.csv', 'ma_dN_manure': 'total_ma_dN_manure_station.csv', 'es_aN_fixation': 'total_es_aN_fixation_station.csv', 'es_aN_deposition': 'total_es_aN_deposition_station.csv'}\n"
     ]
    }
   ],
   "source": [
    "Scenarios = [\"station\", \"era5\"]\n",
    "\n",
    "Vars = [\"sc_aN_n2o_emis\",\n",
    "        \"sc_aN_no_emis\",\n",
    "        \"sc_aN_n2_emis\",\n",
    "        \"sc_aN_nh3_emis\",\n",
    "        \"sc_aN_no3_leach\",\n",
    "        \"es_aN_export_harvest\",\n",
    "        \"ha_dN_straw_export\", \n",
    "        \"cu_dN_fru_export\",\n",
    "        \"cu_dN_lst_export\",\n",
    "        \"cu_dN_fol_export\",\n",
    "        \"fe_dN_fertilizer\",\n",
    "        \"ma_dN_manure\",\n",
    "        \"es_aN_fixation\",\n",
    "        \"es_aN_deposition\"]\n",
    "\n",
    "scen = Scenarios[0]\n",
    "Files = {}\n",
    "for v in Vars:\n",
    "    var = v[3:]\n",
    "    prefix = v.split(\"_\")[0]\n",
    "    print(f\"{var}, '{prefix}'\" )\n",
    "    Files[v] = f\"total_{prefix}_{var}_{scen}.csv\"\n",
    "    print(v, Files[v] )\n",
    "#\n",
    "\n",
    "print(Files)"
   ]
  },
  {
   "cell_type": "code",
   "execution_count": null,
   "metadata": {},
   "outputs": [],
   "source": []
  },
  {
   "cell_type": "code",
   "execution_count": 27,
   "metadata": {},
   "outputs": [
    {
     "name": "stdout",
     "output_type": "stream",
     "text": [
      "         aN_n2o_emis[kgNha-1]\n",
      "year id                      \n",
      "2009 0             964.615340\n",
      "     1           66278.436771\n",
      "     2              36.543905\n",
      "     3              36.543905\n",
      "     4             109.631714\n",
      "sc_aN_n2o_emis aN_n2o_emis\n",
      "sc_aN_no_emis aN_no_emis\n",
      "sc_aN_n2_emis aN_n2_emis\n",
      "sc_aN_nh3_emis aN_nh3_emis\n",
      "sc_aN_no3_leach aN_no3_leach\n",
      "es_aN_export_harvest aN_export_harvest\n",
      "ha_dN_straw_export dN_straw_export\n",
      "cu_dN_fru_export dN_fru_export\n",
      "cu_dN_lst_export dN_lst_export\n",
      "cu_dN_fol_export dN_fol_export\n",
      "fe_dN_fertilizer dN_fertilizer\n",
      "ma_dN_manure dN_manure\n",
      "es_aN_fixation aN_fixation\n",
      "es_aN_deposition aN_deposition\n",
      "\n",
      "         aN_n2o_emis[kgNha-1]  sc_aN_n2o_emis  sc_aN_no_emis  sc_aN_n2_emis  \\\n",
      "year id                                                                       \n",
      "2009 0             964.615340      964.615340     279.857370   23647.175286   \n",
      "     1           66278.436771    66278.436771   20742.730718  654998.961064   \n",
      "     2              36.543905       36.543905      12.349652     281.493637   \n",
      "     3              36.543905       36.543905      12.349652     281.493637   \n",
      "     4             109.631714      109.631714      37.048957     844.480911   \n",
      "\n",
      "         sc_aN_nh3_emis  sc_aN_no3_leach  es_aN_export_harvest  \\\n",
      "year id                                                          \n",
      "2009 0     13839.444948        15.859332          1.401153e+05   \n",
      "     1    611348.781113    233070.228059          7.277478e+06   \n",
      "     2       176.701594       939.326207          5.603743e+03   \n",
      "     3       176.701594       939.326207          5.603743e+03   \n",
      "     4       530.104782      2817.978622          1.681123e+04   \n",
      "\n",
      "         ha_dN_straw_export  cu_dN_fru_export  cu_dN_lst_export  \\\n",
      "year id                                                           \n",
      "2009 0         3.050565e+04               0.0      3.653639e+04   \n",
      "     1         1.584904e+06               0.0      1.897524e+06   \n",
      "     2         1.313040e+03               0.0      1.430229e+03   \n",
      "     3         1.313040e+03               0.0      1.430229e+03   \n",
      "     4         3.939121e+03               0.0      4.290688e+03   \n",
      "\n",
      "         cu_dN_fol_export  fe_dN_fertilizer  ma_dN_manure  es_aN_fixation  \\\n",
      "year id                                                                     \n",
      "2009 0       7.307274e+04               0.0           0.0    1.552841e+05   \n",
      "     1       3.795049e+06               0.0           0.0    8.315742e+06   \n",
      "     2       2.860456e+03               0.0           0.0    6.607714e+03   \n",
      "     3       2.860456e+03               0.0           0.0    6.607714e+03   \n",
      "     4       8.581369e+03               0.0           0.0    1.982314e+04   \n",
      "\n",
      "         es_aN_deposition  \n",
      "year id                    \n",
      "2009 0        4070.057208  \n",
      "     1      347183.859757  \n",
      "     2         553.675500  \n",
      "     3         553.675500  \n",
      "     4        1661.026500  \n"
     ]
    }
   ],
   "source": [
    "dfSC = pd.read_csv(\"total_sc_aN_n2o_emis_era5.csv\")\n",
    "dfSC\n",
    "dfN = dfSC\n",
    "dfN.set_index([\"year\",\"id\"], inplace=True)\n",
    "dfN.rename(columns = {\"aN_n2o_emis[kgNha-1]\" : \"x\"} )\n",
    "print(dfN.head())\n",
    "\n",
    "for v in Vars:\n",
    "    var = v[3:]\n",
    "    print(v, var)\n",
    "    df = pd.read_csv(Files[v])\n",
    "    df.set_index([\"year\",\"id\"], inplace=True)\n",
    "    #print(df.head(n=2))\n",
    "    dfN[v] = df\n",
    "#\n",
    "print()\n",
    "print(dfN.head())\n"
   ]
  },
  {
   "cell_type": "code",
   "execution_count": 28,
   "metadata": {},
   "outputs": [
    {
     "name": "stdout",
     "output_type": "stream",
     "text": [
      "         aN_n2o_emis[kgNha-1]  sc_aN_n2o_emis  sc_aN_no_emis  sc_aN_n2_emis  \\\n",
      "year id                                                                       \n",
      "2009 0             964.615340      964.615340     279.857370   23647.175286   \n",
      "     1           66278.436771    66278.436771   20742.730718  654998.961064   \n",
      "     2              36.543905       36.543905      12.349652     281.493637   \n",
      "     3              36.543905       36.543905      12.349652     281.493637   \n",
      "     4             109.631714      109.631714      37.048957     844.480911   \n",
      "\n",
      "         sc_aN_nh3_emis  sc_aN_no3_leach  es_aN_export_harvest  \\\n",
      "year id                                                          \n",
      "2009 0     13839.444948        15.859332          1.401153e+05   \n",
      "     1    611348.781113    233070.228059          7.277478e+06   \n",
      "     2       176.701594       939.326207          5.603743e+03   \n",
      "     3       176.701594       939.326207          5.603743e+03   \n",
      "     4       530.104782      2817.978622          1.681123e+04   \n",
      "\n",
      "         ha_dN_straw_export  cu_dN_fru_export  cu_dN_lst_export  ...  \\\n",
      "year id                                                          ...   \n",
      "2009 0         3.050565e+04               0.0      3.653639e+04  ...   \n",
      "     1         1.584904e+06               0.0      1.897524e+06  ...   \n",
      "     2         1.313040e+03               0.0      1.430229e+03  ...   \n",
      "     3         1.313040e+03               0.0      1.430229e+03  ...   \n",
      "     4         3.939121e+03               0.0      4.290688e+03  ...   \n",
      "\n",
      "         ma_dN_manure  es_aN_fixation  es_aN_deposition  N_OUT_Ngases  \\\n",
      "year id                                                                 \n",
      "2009 0            0.0    1.552841e+05       4070.057208  3.873109e+04   \n",
      "     1            0.0    8.315742e+06     347183.859757  1.353369e+06   \n",
      "     2            0.0    6.607714e+03        553.675500  5.070888e+02   \n",
      "     3            0.0    6.607714e+03        553.675500  5.070888e+02   \n",
      "     4            0.0    1.982314e+04       1661.026500  1.521266e+03   \n",
      "\n",
      "             N_OUTPUT  N_IN_fert  N_IN_manure      N_IN_bnf  N_IN_deposition  \\\n",
      "year id                                                                        \n",
      "2009 0   3.189770e+05        0.0          0.0  1.552841e+05      4070.057208   \n",
      "     1   1.614139e+07        0.0          0.0  8.315742e+06    347183.859757   \n",
      "     2   1.265388e+04        0.0          0.0  6.607714e+03       553.675500   \n",
      "     3   1.265388e+04        0.0          0.0  6.607714e+03       553.675500   \n",
      "     4   3.796165e+04        0.0          0.0  1.982314e+04      1661.026500   \n",
      "\n",
      "              N_INPUT  \n",
      "year id                \n",
      "2009 0   1.593542e+05  \n",
      "     1   8.662926e+06  \n",
      "     2   7.161389e+03  \n",
      "     3   7.161389e+03  \n",
      "     4   2.148417e+04  \n",
      "\n",
      "[5 rows x 22 columns]\n"
     ]
    }
   ],
   "source": [
    "\n",
    "dfN[\"N_OUT_Ngases\"] = dfN[\"sc_aN_n2o_emis\"] + dfN[\"sc_aN_no_emis\"] + dfN[\"sc_aN_n2_emis\"] + dfN[\"sc_aN_nh3_emis\"]\n",
    "\n",
    "dfN[\"N_OUTPUT\"] = (dfN[\"N_OUT_Ngases\"] + \n",
    "                   dfN[\"sc_aN_no3_leach\"] + \n",
    "                   dfN[\"es_aN_export_harvest\"] + \n",
    "                    dfN[\"ha_dN_straw_export\"] + \n",
    "                    dfN[\"cu_dN_fru_export\"] + \n",
    "                    dfN[\"cu_dN_lst_export\"] + \n",
    "                    dfN[\"cu_dN_fol_export\"] )\n",
    "\n",
    "dfN[\"N_IN_fert\"] = dfN[\"fe_dN_fertilizer\"]  \n",
    "dfN[\"N_IN_manure\"]  = dfN[\"ma_dN_manure\"]\n",
    "dfN[\"N_IN_bnf\"]  = dfN[\"es_aN_fixation\"] \n",
    "dfN[\"N_IN_deposition\"]  = dfN[\"es_aN_deposition\"] \n",
    "       \n",
    "\n",
    "\n",
    "dfN[\"N_INPUT\"] = dfN[\"N_IN_fert\"] + dfN[\"N_IN_manure\"] + dfN[\"N_IN_bnf\"] + dfN[\"N_IN_deposition\"] \n",
    "\n",
    "print(dfN.head())\n",
    "\n",
    "dfN.reset_index(inplace=True)"
   ]
  },
  {
   "cell_type": "code",
   "execution_count": 29,
   "metadata": {},
   "outputs": [
    {
     "data": {
      "text/plain": [
       "year\n",
       "2009    1.133422e+08\n",
       "2010    0.000000e+00\n",
       "2011    0.000000e+00\n",
       "2012    0.000000e+00\n",
       "2013    0.000000e+00\n",
       "2014    0.000000e+00\n",
       "2015    0.000000e+00\n",
       "2016    0.000000e+00\n",
       "Name: N_OUTPUT, dtype: float64"
      ]
     },
     "execution_count": 29,
     "metadata": {},
     "output_type": "execute_result"
    }
   ],
   "source": [
    "dfN[\"N_OUTPUT\"].groupby(dfN.year, axis=0).sum(axis=0)"
   ]
  },
  {
   "cell_type": "code",
   "execution_count": null,
   "metadata": {},
   "outputs": [],
   "source": []
  },
  {
   "cell_type": "code",
   "execution_count": 30,
   "metadata": {},
   "outputs": [
    {
     "name": "stdout",
     "output_type": "stream",
     "text": [
      "Average Anual Nitrogen Balance (2000 - 2010)\n",
      "\n",
      "Input:      55541064 std:      4378401\n",
      "Output:     14167781 std:     40072535\n",
      "Diff:       41373283\n",
      "\n",
      "LandscapeDNDC\n",
      "Outputs: \n",
      "\tNO            566125\n",
      "\tN2O           529428\n",
      "\tN2           6578877\n",
      "\tNH3         11878298\n",
      "\tN-gases     19552727\n",
      "\tNO3          1882012\n",
      "\tN-yield     32024483\n",
      "\tN-straw      6436759\n",
      "Inputs: \n",
      "\tN-fert      19403331\n",
      "\tN-manu      19366028\n",
      "\tN-bnf       14872909\n",
      "\tN-depos      1898797\n",
      "\n"
     ]
    }
   ],
   "source": [
    "Ninput = dfN[\"N_INPUT\"].groupby(dfN.year, axis=0).sum(axis=0).mean()\n",
    "Ninputstd = dfN[\"N_INPUT\"].groupby(dfN.year, axis=0).sum(axis=0).std()\n",
    "Noutput = dfN[\"N_OUTPUT\"].groupby(dfN.year, axis=0).sum(axis=0).mean()\n",
    "Noutputstd = dfN[\"N_OUTPUT\"].groupby(dfN.year, axis=0).sum(axis=0).std()\n",
    "\n",
    "print(f\"Average Anual Nitrogen Balance (2000 - 2010)\\n\")\n",
    "print(f\"Input:  {Ninput:12.0f} std: {Ninputstd:12.0f}\")\n",
    "print(f\"Output: {Noutput:12.0f} std: {Noutputstd:12.0f}\")\n",
    "print(f\"Diff:   {(Ninput - Noutput):12.0f}\\n\")\n",
    "\n",
    "NNO = dfN[\"sc_aN_no_emis\"].groupby(dfN.year, axis=0).sum(axis=0).mean()\n",
    "NN2O = dfN[\"sc_aN_n2o_emis\"].groupby(dfN.year, axis=0).sum(axis=0).mean()\n",
    "NN2 = dfN[\"sc_aN_n2_emis\"].groupby(dfN.year, axis=0).sum(axis=0).mean()\n",
    "NNH3 = dfN[\"sc_aN_nh3_emis\"].groupby(dfN.year, axis=0).sum(axis=0).mean()\n",
    "NNgases = dfN[\"N_OUT_Ngases\"].groupby(dfN.year, axis=0).sum(axis=0).mean()\n",
    "NNO3 =  dfN[\"sc_aN_no3_leach\"].groupby(dfN.year, axis=0).sum(axis=0).mean()\n",
    "Nyield = (dfN[\"es_aN_export_harvest\"].groupby(dfN.year, axis=0).sum(axis=0).mean() +\n",
    "          dfN[\"cu_dN_fru_export\"].groupby(dfN.year, axis=0).sum(axis=0).mean())\n",
    "Nstraw = (dfN[\"ha_dN_straw_export\"].groupby(dfN.year, axis=0).sum(axis=0).mean() +\n",
    "          dfN[\"cu_dN_lst_export\"].groupby(dfN.year, axis=0).sum(axis=0).mean() +\n",
    "          dfN[\"cu_dN_fol_export\"].groupby(dfN.year, axis=0).sum(axis=0).mean())\n",
    "print(\"LandscapeDNDC\")\n",
    "\n",
    "print(f\"Outputs: \")\n",
    "print(f\"\\tNO      {NNO:12.0f}\")\n",
    "print(f\"\\tN2O     {NN2O:12.0f}\")\n",
    "print(f\"\\tN2      {NN2:12.0f}\")\n",
    "print(f\"\\tNH3     {NNH3:12.0f}\")\n",
    "print(f\"\\tN-gases {NNgases:12.0f}\")\n",
    "print(f\"\\tNO3     {NNO3:12.0f}\")\n",
    "print(f\"\\tN-yield {Nyield:12.0f}\")\n",
    "print(f\"\\tN-straw {Nstraw:12.0f}\")  \n",
    "\n",
    "Nfert = dfN[\"N_IN_fert\"].groupby(dfN.year, axis=0).sum(axis=0).mean()\n",
    "Nmanure = dfN[\"N_IN_manure\"].groupby(dfN.year, axis=0).sum(axis=0).mean()\n",
    "Nbnf = dfN[\"N_IN_bnf\"].groupby(dfN.year, axis=0).sum(axis=0).mean()\n",
    "Ndeposition = dfN[\"N_IN_deposition\"].groupby(dfN.year, axis=0).sum(axis=0).mean()\n",
    "\n",
    "print(f\"Inputs: \")\n",
    "print(f\"\\tN-fert  {Nfert:12.0f}\")\n",
    "print(f\"\\tN-manu  {Nmanure:12.0f}\")\n",
    "print(f\"\\tN-bnf   {Nbnf:12.0f}\")\n",
    "print(f\"\\tN-depos {Ndeposition:12.0f}\\n\")"
   ]
  },
  {
   "cell_type": "code",
   "execution_count": 14,
   "metadata": {},
   "outputs": [
    {
     "data": {
      "image/png": "[encoded data removed]",
      "text/plain": [
       "<Figure size 432x288 with 1 Axes>"
      ]
     },
     "metadata": {
      "needs_background": "light"
     },
     "output_type": "display_data"
    }
   ],
   "source": [
    "plt.figure()\n",
    "x = [0,1]\n",
    "plt.bar(0, Ninput * 1e-6, yerr=Ninputstd* 1e-6, label=\"input\")\n",
    "plt.bar(1, Noutput * 1e-6, yerr=Noutputstd* 1e-6, label=\"output\")\n",
    "plt.title(f\"Thessaly LandscapeDNDC\\nannual N balance\")\n",
    "plt.xticks(x, ('input', 'output'))\n",
    "plt.ylabel(\"nitrogen [k tons]\")\n",
    "plt.legend()\n",
    "plt.show()"
   ]
  },
  {
   "cell_type": "code",
   "execution_count": 15,
   "metadata": {},
   "outputs": [
    {
     "name": "stdout",
     "output_type": "stream",
     "text": [
      "59.8959812510981\n"
     ]
    },
    {
     "data": {
      "image/png": "[encoded data removed]",
      "text/plain": [
       "<Figure size 432x288 with 1 Axes>"
      ]
     },
     "metadata": {},
     "output_type": "display_data"
    }
   ],
   "source": [
    "plt.figure()\n",
    "total = (NNgases+ NNO3+ Nyield+ Nstraw)  * 1e-6 \n",
    "print(total)\n",
    "\n",
    "plt.pie([NNgases * 1e-6, NNO3 * 1e-6, Nyield * 1e-6, Nstraw * 1e-6],  autopct=lambda p: '{:.2f}'.format(p * total /100.),  \n",
    "        labels=[\"gases\", \"NO3\", \"Nyield\", \"Nstraw\"],\n",
    "        shadow=True, startangle=90)\n",
    "plt.title(f\"Thessaly LandscapeDNDC\\nannaul N out fluxes [k tons N]\")\n",
    "plt.savefig(\"fig_out_fluxes-main.pdf\")\n",
    "plt.show()"
   ]
  },
  {
   "cell_type": "code",
   "execution_count": 16,
   "metadata": {},
   "outputs": [
    {
     "data": {
      "image/png": "[encoded data removed]",
      "text/plain": [
       "<Figure size 432x288 with 1 Axes>"
      ]
     },
     "metadata": {},
     "output_type": "display_data"
    }
   ],
   "source": [
    "plt.figure()\n",
    "total = (Nfert + Nmanure + Nbnf + Ndeposition )   * 1e-6\n",
    "plt.pie([Nfert * 1e-6, Nmanure * 1e-6, Nbnf * 1e-6, Ndeposition * 1e-6] , autopct=lambda p: '{:.2f}'.format(p * total /100.),  labels=[\"synth fertilizer\", \"manure\", \"N2 fixation\",\"N deposition\"])\n",
    "plt.title(f\"Thessaly LandscapeDNDC\\nannaul N input fluxes [kg-N/ha]\")\n",
    "plt.savefig(\"fig_in_fluxes.pdf\")\n",
    "\n",
    "plt.show()"
   ]
  },
  {
   "cell_type": "code",
   "execution_count": null,
   "metadata": {},
   "outputs": [],
   "source": []
  },
  {
   "cell_type": "code",
   "execution_count": 17,
   "metadata": {},
   "outputs": [
    {
     "data": {
      "image/png": "[encoded data removed]",
      "text/plain": [
       "<Figure size 432x288 with 1 Axes>"
      ]
     },
     "metadata": {},
     "output_type": "display_data"
    }
   ],
   "source": [
    "fig, ax = plt.subplots()\n",
    "\n",
    "size = 0.5\n",
    "valsouter = np.array([Ninput,Noutput])\n",
    "valsinner = np.array([Nbnf, Nfert,Nmanure,NNO,NN2O,NN2,NNH3,NNO3,Nyield,Nstraw])\n",
    "totalin = sum(valsinner)\n",
    "totalout = sum(valsouter)\n",
    "\n",
    "cmap = plt.get_cmap(\"tab20c\")\n",
    "outer_colors = cmap(np.array([0,4]))\n",
    "inner_colors = cmap(np.array([1, 2, 3, 6, 7, 5, 6, 7, 5, 6]))\n",
    "\n",
    "patches, wedges = ax.pie(valsouter, radius=1.3-size,  colors=outer_colors, wedgeprops=dict(width=size, edgecolor='w'), labels = [\"input\", \"output\"])\n",
    "patches[0].set_hatch('/')\n",
    "patches[1].set_hatch('\\\\')\n",
    "patches, wedges = ax.pie(valsinner, radius=1.3, colors=inner_colors, wedgeprops=dict(width=size, edgecolor='w'), \n",
    "       labels = [\"Nbnf\",\"Nfert\",\"Nmanure\",\"NO\",\"N2O\",\"N2\",\"NH3\",\"NO3\",\"Nyield\",\"Nstraw\"])\n",
    "patches[0].set_hatch('/')\n",
    "patches[1].set_hatch('/')\n",
    "patches[2].set_hatch('\\\\')\n",
    "patches[3].set_hatch('\\\\')\n",
    "patches[4].set_hatch('\\\\')\n",
    "patches[5].set_hatch('\\\\')\n",
    "patches[6].set_hatch('\\\\')\n",
    "patches[7].set_hatch('\\\\')\n",
    "patches[8].set_hatch('\\\\')\n",
    "patches[9].set_hatch('\\\\')\n",
    "\n",
    "\n",
    "#ax.set(aspect=\"equal\", title='N balance')\n",
    "plt.rcParams['patch.linewidth'] = 1\n",
    "plt.rcParams['font.size'] = 14\n",
    "plt.rcParams['patch.edgecolor'] = 'white' \n",
    "plt.legend(ncol=4, bbox_to_anchor=(-.2, -.2), loc='upper left', borderaxespad=0. )\n",
    "plt.savefig(\"fig_N-balance.pdf\")\n",
    "plt.show()"
   ]
  },
  {
   "cell_type": "code",
   "execution_count": null,
   "metadata": {},
   "outputs": [],
   "source": []
  },
  {
   "cell_type": "code",
   "execution_count": null,
   "metadata": {},
   "outputs": [],
   "source": []
  },
  {
   "cell_type": "code",
   "execution_count": null,
   "metadata": {},
   "outputs": [],
   "source": [
    "df = pd.read_csv(\"\")"
   ]
  },
  {
   "cell_type": "code",
   "execution_count": null,
   "metadata": {},
   "outputs": [],
   "source": []
  },
  {
   "cell_type": "code",
   "execution_count": null,
   "metadata": {},
   "outputs": [],
   "source": []
  },
  {
   "cell_type": "code",
   "execution_count": null,
   "metadata": {},
   "outputs": [],
   "source": []
  },
  {
   "cell_type": "code",
   "execution_count": null,
   "metadata": {},
   "outputs": [],
   "source": []
  },
  {
   "cell_type": "code",
   "execution_count": null,
   "metadata": {},
   "outputs": [],
   "source": []
  },
  {
   "cell_type": "code",
   "execution_count": null,
   "metadata": {},
   "outputs": [],
   "source": []
  },
  {
   "cell_type": "code",
   "execution_count": null,
   "metadata": {},
   "outputs": [],
   "source": []
  }
 ],
 "metadata": {
  "kernelspec": {
   "display_name": "Python Plotting XArray",
   "language": "python",
   "name": "plotting"
  },
  "language_info": {
   "codemirror_mode": {
    "name": "ipython",
    "version": 3
   },
   "file_extension": ".py",
   "mimetype": "text/x-python",
   "name": "python",
   "nbconvert_exporter": "python",
   "pygments_lexer": "ipython3",
   "version": "3.8.10"
  }
 },
 "nbformat": 4,
 "nbformat_minor": 4
}
